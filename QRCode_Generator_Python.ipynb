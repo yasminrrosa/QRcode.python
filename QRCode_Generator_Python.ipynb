{
  "nbformat": 4,
  "nbformat_minor": 0,
  "metadata": {
    "colab": {
      "name": "QRCode Generator - Python",
      "provenance": [],
      "collapsed_sections": [],
      "authorship_tag": "ABX9TyOB83Z+Azlcl8tiumlGDS2u",
      "include_colab_link": true
    },
    "kernelspec": {
      "name": "python3",
      "display_name": "Python 3"
    },
    "language_info": {
      "name": "python"
    }
  },
  "cells": [
    {
      "cell_type": "markdown",
      "metadata": {
        "id": "view-in-github",
        "colab_type": "text"
      },
      "source": [
        "<a href=\"https://colab.research.google.com/github/yasminrrosa/QRcode.python/blob/main/QRCode_Generator_Python.ipynb\" target=\"_parent\"><img src=\"https://colab.research.google.com/assets/colab-badge.svg\" alt=\"Open In Colab\"/></a>"
      ]
    },
    {
      "cell_type": "code",
      "execution_count": null,
      "metadata": {
        "id": "g5t67VteJbYW"
      },
      "outputs": [],
      "source": [
        "import qrcode\n",
        "\n",
        "\n",
        "\n",
        "imagem = qrcode.make(\"https://www.google.com.br\")\n",
        "\n",
        "imagem.save = (\"Página do Google\")\n"
      ]
    }
  ]
}